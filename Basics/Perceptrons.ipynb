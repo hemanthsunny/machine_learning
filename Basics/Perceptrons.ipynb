{
  "nbformat": 4,
  "nbformat_minor": 0,
  "metadata": {
    "colab": {
      "name": "Perceptrons",
      "provenance": [],
      "collapsed_sections": [],
      "authorship_tag": "ABX9TyOxLpgZuLtffpEsBucNsoff",
      "include_colab_link": true
    },
    "kernelspec": {
      "name": "python3",
      "display_name": "Python 3"
    }
  },
  "cells": [
    {
      "cell_type": "markdown",
      "metadata": {
        "id": "view-in-github",
        "colab_type": "text"
      },
      "source": [
        "<a href=\"https://colab.research.google.com/github/hemanthsunny/machine_learning/blob/master/Basics/Perceptrons.ipynb\" target=\"_parent\"><img src=\"https://colab.research.google.com/assets/colab-badge.svg\" alt=\"Open In Colab\"/></a>"
      ]
    },
    {
      "cell_type": "markdown",
      "metadata": {
        "id": "ux1i92B2CTfg",
        "colab_type": "text"
      },
      "source": [
        "**Perceptron**\n",
        "1. Introduced by Rosenblatt in 1962\n",
        "2. To describe a specific type - of feed forward neural network - with a grid binary inputs - and a binary output unit.\n",
        "3. A general term for layered feed forward networks. <br>\n",
        "Ex: A 2-layered network (i/p layer not counted)"
      ]
    },
    {
      "cell_type": "code",
      "metadata": {
        "id": "laWin5YlCNuV",
        "colab_type": "code",
        "colab": {}
      },
      "source": [
        ""
      ],
      "execution_count": 0,
      "outputs": []
    },
    {
      "cell_type": "markdown",
      "metadata": {
        "id": "-Z_EkY1G-UNP",
        "colab_type": "text"
      },
      "source": [
        "Neurons fire an 'Action Potential' only when input sum exceeds a threshold. <br>\n",
        "\n",
        "Input sum = i = x1.w1 + x2.w2 + . . . + xn.wn <br>\n",
        "Threshold = t <br>\n",
        "\n",
        "Output = y = 0, if i < t <br>\n",
        "Output = y = 1, if i >= t"
      ]
    },
    {
      "cell_type": "code",
      "metadata": {
        "id": "lVlTgxZU-TWZ",
        "colab_type": "code",
        "colab": {}
      },
      "source": [
        ""
      ],
      "execution_count": 0,
      "outputs": []
    },
    {
      "cell_type": "markdown",
      "metadata": {
        "id": "wvpGcKQisPAH",
        "colab_type": "text"
      },
      "source": [
        "Heaviside function, H(x) = 0, if x < 0, H(x) = 1, if x >= 0 <br>\n",
        "*Reference* - nnml_perceptrons_2020.pdf, slide 6\n",
        "\n",
        "What can compute? <br>\n",
        "1. feed-forward networks with separate i/p, o/p units.\n",
        "2. can perform hetero-associative tasks\n",
        "3. ex: Pattern classification \n",
        " - for one output, only switch on if input pattern belongs to a certain class. <br>\n",
        "\n",
        "Example - Simple logical operations<br>\n",
        "\n",
        "AND gate <br>\n",
        "0  0  0 <br>\n",
        "0  1  0 <br>\n",
        "1  0  0 <br>\n",
        "1  1  1 <br>\n",
        "\n",
        "OR gate <br>\n",
        "0  0  0  <br>\n",
        "0  1  1  <br>\n",
        "1  0  1  <br>\n",
        "1  1  1  <br>\n",
        "\n",
        "\n"
      ]
    },
    {
      "cell_type": "code",
      "metadata": {
        "id": "0s17ObbZAzPl",
        "colab_type": "code",
        "colab": {}
      },
      "source": [
        ""
      ],
      "execution_count": 0,
      "outputs": []
    },
    {
      "cell_type": "markdown",
      "metadata": {
        "id": "h5SBRWZWA1Iv",
        "colab_type": "text"
      },
      "source": [
        "**Noise Resistance:** A feature in neural networks and real neurons.\n",
        "Ex: What if noise added to weights or inputs? \n",
        "*Reference*: Slide 8"
      ]
    },
    {
      "cell_type": "markdown",
      "metadata": {
        "id": "bC6_BKq6CVPb",
        "colab_type": "text"
      },
      "source": [
        "**Geometrical representation**: Each input unit is considered as single axis. <br>\n",
        "If there are N input units, then we define in N-dimensional input space. <br>\n",
        "\n",
        "(x1, x2, x3) = (0.7, 1.2, 1) <br>\n",
        "Here 3 input units = 3 input axis = 3-dimensional *input space*"
      ]
    },
    {
      "cell_type": "markdown",
      "metadata": {
        "id": "Qb5rTZSyDX-3",
        "colab_type": "text"
      },
      "source": [
        "**Input space:** For binary units, each input pattern is represented by the corner of hypercube.\n",
        "*Reference for visualization*: Slide 10"
      ]
    },
    {
      "cell_type": "code",
      "metadata": {
        "id": "Qk7Mv7PSCSJD",
        "colab_type": "code",
        "colab": {}
      },
      "source": [
        ""
      ],
      "execution_count": 0,
      "outputs": []
    },
    {
      "cell_type": "markdown",
      "metadata": {
        "id": "fuFlEMPPMnTi",
        "colab_type": "text"
      },
      "source": [
        "**Vectors**: <br>\n",
        "**w x** = |w| |x| cos(t) <br>\n",
        "\n",
        "Weights (w1, w2) and threshold (t) define a decision tree. <br>\n",
        "<center>\n",
        "y = 1 for x1.w1 + x2.w2 >= t <br>\n",
        "x1.w1 + x2.w2 = t \n",
        "</center>\n",
        "x2 = -(w1/w2).x1 + (t/w2) <br>\n",
        "which looks like y = mx + c\n",
        "\n",
        "*Refer*: Slide 13"
      ]
    },
    {
      "cell_type": "code",
      "metadata": {
        "id": "xFiPjyi2Mmeg",
        "colab_type": "code",
        "colab": {}
      },
      "source": [
        ""
      ],
      "execution_count": 0,
      "outputs": []
    },
    {
      "cell_type": "markdown",
      "metadata": {
        "id": "PangQVHOHoJM",
        "colab_type": "text"
      },
      "source": [
        "**Decision surface / Decision boundary**:\n",
        "In classification problem with two classes - a decision surface is a hypersurface - that partitions the vector space into 2 sets - 1 for each class.\n",
        "1. If decision boundary is hyperplane - then classification problem is linear - and classes are linearly separable\n",
        "2. Not always clear boundary\n",
        "\n",
        "**Decision surface in Neural Network Models**\n",
        "1. In perceptrons (or) backpropagation based ANN's - decision boundary depends on number of hidden layers the network has.\n",
        "2. No hidden layers - then network can learn only linear problems\n",
        "3. 1 hidden layer - then network can learn any continuous function - on compact subset of R^n - as shown by *Universal Approximation Theorem*\n",
        "\n",
        "**Decision surface in Support Vector Models**\n",
        "1. In SV models, model find a hyperplane which separates feature space - into 2 classes - with maximum margin.\n",
        "2. If problem is not linearly separable - then kernal trick is used - by converting to high number of dimensions.\n",
        "3. Thus, a hypersurface in small dimension - converts to - a hyperplane in larger dimensions\n",
        "\n",
        "*Reference*: https://en.wikipedia.org/wiki/Decision_boundary"
      ]
    },
    {
      "cell_type": "code",
      "metadata": {
        "id": "qgK4sSUOLKOu",
        "colab_type": "code",
        "outputId": "b1841d03-42ff-4faa-dbbd-7704132cdfa9",
        "colab": {
          "base_uri": "https://localhost:8080/",
          "height": 34
        }
      },
      "source": [
        "'''\n",
        "Ref1: https://scikit-learn.org/stable/auto_examples/tree/plot_iris_dtc.html\n",
        "Ref2: https://scikit-learn.org/stable/modules/tree.html#tree\n",
        "'''\n",
        "\n",
        "# A simple example on decision tree classifier\n",
        "from sklearn import tree\n",
        "X = [[0, 0], [1, 1]] # input training samples [n_samples, n_features]\n",
        "Y = [0, 1] # labels of training samples\n",
        "classifier = tree.DecisionTreeClassifier()\n",
        "classifier.fit(X, Y)\n",
        "\n",
        "# Predict\n",
        "classifier.predict([[0, 2]])"
      ],
      "execution_count": 0,
      "outputs": [
        {
          "output_type": "execute_result",
          "data": {
            "text/plain": [
              "array([1])"
            ]
          },
          "metadata": {
            "tags": []
          },
          "execution_count": 3
        }
      ]
    },
    {
      "cell_type": "code",
      "metadata": {
        "id": "dwwpedaHMDnt",
        "colab_type": "code",
        "outputId": "4c550fc1-ca3b-4fd7-9a5d-38e797e499d1",
        "colab": {
          "base_uri": "https://localhost:8080/",
          "height": 34
        }
      },
      "source": [
        "# Probability of each sample can be predicted\n",
        "classifier.predict_proba([[0, 2]])"
      ],
      "execution_count": 0,
      "outputs": [
        {
          "output_type": "execute_result",
          "data": {
            "text/plain": [
              "array([[0., 1.]])"
            ]
          },
          "metadata": {
            "tags": []
          },
          "execution_count": 5
        }
      ]
    },
    {
      "cell_type": "code",
      "metadata": {
        "id": "oIhjCKrTMWj_",
        "colab_type": "code",
        "colab": {}
      },
      "source": [
        ""
      ],
      "execution_count": 0,
      "outputs": []
    },
    {
      "cell_type": "markdown",
      "metadata": {
        "id": "Gg3IlvvfOHYf",
        "colab_type": "text"
      },
      "source": [
        "**Decision surface in higher dimesion**: <br> \n",
        "x1.w1 + x2.w2 + x3.w3 = t (a plane equation) <br>\n",
        "For N inputs, the decision surface is a hyperplane in N-dimensional space\n",
        "\n",
        "\n",
        "**Decision surfaces & weight vectors:**\n",
        "*Refer*: Slide 15\n",
        "\n",
        "*Learning is possible by altering the weight vectors*"
      ]
    },
    {
      "cell_type": "code",
      "metadata": {
        "id": "6l7F1b0BQY2x",
        "colab_type": "code",
        "colab": {}
      },
      "source": [
        ""
      ],
      "execution_count": 0,
      "outputs": []
    },
    {
      "cell_type": "markdown",
      "metadata": {
        "id": "R_UTTEobQkwI",
        "colab_type": "text"
      },
      "source": [
        "**Linear separability:** <br>\n",
        "Binary classification is possible - only if a decision surface exists - that separate inputs with targets 1 & 0. - This pattern classification is called linearly separable."
      ]
    },
    {
      "cell_type": "code",
      "metadata": {
        "id": "ID8AKq0uRWWj",
        "colab_type": "code",
        "colab": {}
      },
      "source": [
        ""
      ],
      "execution_count": 0,
      "outputs": []
    },
    {
      "cell_type": "markdown",
      "metadata": {
        "id": "qBxdGYj-RYEr",
        "colab_type": "text"
      },
      "source": [
        ""
      ]
    }
  ]
}