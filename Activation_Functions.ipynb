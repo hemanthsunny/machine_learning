{
  "nbformat": 4,
  "nbformat_minor": 0,
  "metadata": {
    "colab": {
      "name": "Activation functions",
      "provenance": [],
      "collapsed_sections": [],
      "authorship_tag": "ABX9TyMtaTB4WUnzsG9/FHf/AlZ+",
      "include_colab_link": true
    },
    "kernelspec": {
      "name": "python3",
      "display_name": "Python 3"
    }
  },
  "cells": [
    {
      "cell_type": "markdown",
      "metadata": {
        "id": "view-in-github",
        "colab_type": "text"
      },
      "source": [
        "<a href=\"https://colab.research.google.com/github/hemanthsunny/machine_learning/blob/master/Activation_Functions.ipynb\" target=\"_parent\"><img src=\"https://colab.research.google.com/assets/colab-badge.svg\" alt=\"Open In Colab\"/></a>"
      ]
    },
    {
      "cell_type": "markdown",
      "metadata": {
        "id": "nNZ_oAKV8I2Z",
        "colab_type": "text"
      },
      "source": [
        "Activation function is an identity function. It is trivial. Many activation functions. Out of them, these are famous -\n",
        "1. Sigmoid - range: [0, 1]\n",
        "2. Tanh - range: [-1, 1] - zero centered, prefered in hidden layers over (1)\n",
        "3. ReLU\n",
        "\n",
        "Due to vanishing gradient problem, Sigmoid and Tanh functions are being avoided. But to understand activation functions, it is good to type all activation functions at least once.\n",
        "\n",
        "*Reference:*\n",
        "1. https://towardsdatascience.com/activation-functions-and-its-types-which-is-better-a9a5310cc8f\n",
        "2. https://towardsdatascience.com/activation-functions-b63185778794"
      ]
    },
    {
      "cell_type": "code",
      "metadata": {
        "id": "BH6sEvs06Acc",
        "colab_type": "code",
        "outputId": "3c5e5dff-cf33-4e32-c1b9-3859731896df",
        "colab": {
          "base_uri": "https://localhost:8080/",
          "height": 34
        }
      },
      "source": [
        "import numpy as np\n",
        "\n",
        "def sigmoid(z):\n",
        "  return 1 / (1 + np.exp(-z))\n",
        "\n",
        "sigmoid(-2)"
      ],
      "execution_count": 0,
      "outputs": [
        {
          "output_type": "execute_result",
          "data": {
            "text/plain": [
              "0.11920292202211755"
            ]
          },
          "metadata": {
            "tags": []
          },
          "execution_count": 8
        }
      ]
    },
    {
      "cell_type": "markdown",
      "metadata": {
        "id": "801JisaQ8Hta",
        "colab_type": "text"
      },
      "source": [
        "Tanh"
      ]
    },
    {
      "cell_type": "code",
      "metadata": {
        "id": "r5TVO7x17x3e",
        "colab_type": "code",
        "outputId": "fdc87cda-a30c-47c8-e8ce-cdb67991b6cb",
        "colab": {
          "base_uri": "https://localhost:8080/",
          "height": 51
        }
      },
      "source": [
        "import numpy as np\n",
        "\n",
        "def tanh(z):\n",
        "  return np.tanh(z)\n",
        "\n",
        "def tanh2(z):\n",
        "  return (np.exp(z) - np.exp(-z)) / (np.exp(z) + np.exp(-z))\n",
        "\n",
        "print(\"Tanh :\", tanh(-2))\n",
        "print(\"Tanh2 :\", tanh2(-2))"
      ],
      "execution_count": 0,
      "outputs": [
        {
          "output_type": "stream",
          "text": [
            "Tanh : -0.9640275800758169\n",
            "Tanh2 : -0.964027580075817\n"
          ],
          "name": "stdout"
        }
      ]
    },
    {
      "cell_type": "markdown",
      "metadata": {
        "id": "g0G0QQBfAhwv",
        "colab_type": "text"
      },
      "source": [
        "ReLU"
      ]
    },
    {
      "cell_type": "code",
      "metadata": {
        "id": "F3D4aG5J7zst",
        "colab_type": "code",
        "outputId": "3d3d787c-a152-4f2c-e065-5b772acc8f88",
        "colab": {
          "base_uri": "https://localhost:8080/",
          "height": 34
        }
      },
      "source": [
        "import numpy as np\n",
        "\n",
        "def relu(z):\n",
        "  return z*(z>0)\n",
        "\n",
        "relu(10)"
      ],
      "execution_count": 0,
      "outputs": [
        {
          "output_type": "execute_result",
          "data": {
            "text/plain": [
              "10"
            ]
          },
          "metadata": {
            "tags": []
          },
          "execution_count": 8
        }
      ]
    },
    {
      "cell_type": "markdown",
      "metadata": {
        "id": "jwQffCzDFGi1",
        "colab_type": "text"
      },
      "source": [
        "Leaky ReLU"
      ]
    },
    {
      "cell_type": "code",
      "metadata": {
        "id": "gvkTL-_tAiDq",
        "colab_type": "code",
        "outputId": "8df8896e-4b2b-4e2b-e6dd-e624d7515427",
        "colab": {
          "base_uri": "https://localhost:8080/",
          "height": 34
        }
      },
      "source": [
        "import numpy as np\n",
        "\n",
        "def leaky_relu(z):\n",
        "  return np.maximum(0.01 * z, z)\n",
        "\n",
        "leaky_relu(-2)"
      ],
      "execution_count": 0,
      "outputs": [
        {
          "output_type": "execute_result",
          "data": {
            "text/plain": [
              "-0.02"
            ]
          },
          "metadata": {
            "tags": []
          },
          "execution_count": 11
        }
      ]
    },
    {
      "cell_type": "code",
      "metadata": {
        "id": "cZFetB58ohmK",
        "colab_type": "code",
        "colab": {}
      },
      "source": [
        ""
      ],
      "execution_count": 0,
      "outputs": []
    }
  ]
}