{
  "nbformat": 4,
  "nbformat_minor": 0,
  "metadata": {
    "colab": {
      "name": "Neural network - layers",
      "provenance": [],
      "collapsed_sections": [],
      "authorship_tag": "ABX9TyOS2CL6cZgzcxDtdwIcdXLt",
      "include_colab_link": true
    },
    "kernelspec": {
      "name": "python3",
      "display_name": "Python 3"
    }
  },
  "cells": [
    {
      "cell_type": "markdown",
      "metadata": {
        "id": "view-in-github",
        "colab_type": "text"
      },
      "source": [
        "<a href=\"https://colab.research.google.com/github/hemanthsunny/machine_learning/blob/master/Neural_network_layers.ipynb\" target=\"_parent\"><img src=\"https://colab.research.google.com/assets/colab-badge.svg\" alt=\"Open In Colab\"/></a>"
      ]
    },
    {
      "cell_type": "markdown",
      "metadata": {
        "id": "Byl0R2jCw7zH",
        "colab_type": "text"
      },
      "source": [
        "*Reference*\n",
        "https://medium.com/fintechexplained/what-are-hidden-layers-4f54f7328263"
      ]
    },
    {
      "cell_type": "code",
      "metadata": {
        "id": "5EThcxEHw3jN",
        "colab_type": "code",
        "colab": {}
      },
      "source": [
        ""
      ],
      "execution_count": 0,
      "outputs": []
    },
    {
      "cell_type": "markdown",
      "metadata": {
        "id": "YfYSMaU1xDLk",
        "colab_type": "text"
      },
      "source": [
        "A layer is a collection of neurons. Different types -\n",
        "1. Input layer\n",
        "2. Hidden layer 1\n",
        "3. Hidden layer 2\n",
        "4. . . . \n",
        "5. Output layer\n",
        "\n",
        "Each layer has its purpose. They simply calculate the weighted sum of inputs and weights, add the bias and execute an activation function "
      ]
    },
    {
      "cell_type": "code",
      "metadata": {
        "id": "zkRd4YlK270l",
        "colab_type": "code",
        "colab": {}
      },
      "source": [
        ""
      ],
      "execution_count": 0,
      "outputs": []
    },
    {
      "cell_type": "markdown",
      "metadata": {
        "id": "66nhlGCZ28po",
        "colab_type": "text"
      },
      "source": [
        "**Input Layer**\n",
        "- This layer must exist in every neural network.\n",
        "- This layer takes inputs from external sources, performs calculations via its neurons and then output transmitted to next layers\n",
        "\n",
        "![alt text](https://miro.medium.com/max/191/1*M6x8sR7hOi46gc5tzYgMIQ.png)\n",
        "- Number of neurons in input layer = number of training data + 1 (this node is to capture the bias term)"
      ]
    },
    {
      "cell_type": "markdown",
      "metadata": {
        "id": "wY9qXNpF6zAJ",
        "colab_type": "text"
      },
      "source": [
        "**Output layer**\n",
        "- Must be one output layer in every neural network.\n",
        "- This layer takes inputs from its previous layer, performs calculations via its neurons and then output is computed.\n",
        "\n",
        "![alt text](https://miro.medium.com/max/169/1*Zhg5ypanLyDaL2CuD0GBvQ.png) \n",
        "\n",
        "- Number of neurons in this layer = Depends on problem type (classification / regression)\n",
        "  - If it is regression type (regressor) then this layer has single neuron / node.\n",
        "  - If it is classification type (classifier) then this layer has single neuron / node.\n",
        "  - If it is classification type and uses probabilistic activation function (ex. Softmax), then this layer has one neuron / node per class label."
      ]
    },
    {
      "cell_type": "markdown",
      "metadata": {
        "id": "U54qNc5_7TBJ",
        "colab_type": "text"
      },
      "source": [
        "**Hidden layer**\n",
        "- These layers stays in between in input & output layers. And that's the reason this is referred as 'hidden layer'.\n",
        "- Hidden => not visible to external systems and private to neural network\n",
        "- There will be atleast zero hidden layers in each neural network. [Most of the times, 1 hidden layer is sufficient]\n",
        "- Usually, each hidden layer has same number of neurons / nodes.\n",
        "\n",
        "**Uses**\n",
        "- More hidden layers - means more computation time to produce output - also solves more complex problems\n",
        "\n",
        "![alt text](https://miro.medium.com/max/249/1*wCphd0ADUwgCYRGh-OcAyQ.png)\n",
        "\n",
        "- Each neuron in hidden layers calculates weighted sum of inputs and weights, add the bias and execute an activation function.\n",
        "- Number of neurons = (Trading data samples) / (Factor * (Input neurons + Output neurons))\n",
        "   - where factor = a number between 1-10 - used to prevent over-fitting\n",
        "  \n",
        "\n",
        "\n"
      ]
    },
    {
      "cell_type": "code",
      "metadata": {
        "id": "p_jtAmpx6vBg",
        "colab_type": "code",
        "colab": {}
      },
      "source": [
        ""
      ],
      "execution_count": 0,
      "outputs": []
    },
    {
      "cell_type": "markdown",
      "metadata": {
        "id": "ykXw0E6kBDTC",
        "colab_type": "text"
      },
      "source": [
        "*Reference* https://medium.com/fintechexplained/neural-networks-bias-and-weights-10b53e6285da\n",
        "\n",
        "Understand w8's and bias"
      ]
    },
    {
      "cell_type": "code",
      "metadata": {
        "id": "ISyKgg8mBTYy",
        "colab_type": "code",
        "outputId": "c6d3405b-4827-412e-c03a-33f81eb9dd8e",
        "colab": {
          "base_uri": "https://localhost:8080/",
          "height": 105
        }
      },
      "source": [
        "'''\n",
        "A basic example using MNIST numbers dataset\n",
        "'''\n",
        "%tensorflow_version 2.x\n",
        "\n",
        "from tensorflow import keras\n",
        "import matplotlib.pyplot as plt\n",
        "\n",
        "mnist = keras.datasets.mnist\n",
        "(train_images, train_labels), (test_images, test_labels) = mnist.load_data()\n",
        "\n",
        "plt.figure()"
      ],
      "execution_count": 0,
      "outputs": [
        {
          "output_type": "stream",
          "text": [
            "Downloading data from https://storage.googleapis.com/tensorflow/tf-keras-datasets/mnist.npz\n",
            "11493376/11490434 [==============================] - 0s 0us/step\n"
          ],
          "name": "stdout"
        },
        {
          "output_type": "execute_result",
          "data": {
            "text/plain": [
              "<Figure size 432x288 with 0 Axes>"
            ]
          },
          "metadata": {
            "tags": []
          },
          "execution_count": 1
        },
        {
          "output_type": "display_data",
          "data": {
            "text/plain": [
              "<Figure size 432x288 with 0 Axes>"
            ]
          },
          "metadata": {
            "tags": []
          }
        }
      ]
    },
    {
      "cell_type": "code",
      "metadata": {
        "id": "iTC0GoOtC7uO",
        "colab_type": "code",
        "outputId": "a4638d6a-5cf8-4572-94c0-ecd9b97512b0",
        "colab": {
          "base_uri": "https://localhost:8080/",
          "height": 282
        }
      },
      "source": [
        "plt.imshow(train_images[0])"
      ],
      "execution_count": 0,
      "outputs": [
        {
          "output_type": "execute_result",
          "data": {
            "text/plain": [
              "<matplotlib.image.AxesImage at 0x7f13006abc50>"
            ]
          },
          "metadata": {
            "tags": []
          },
          "execution_count": 4
        },
        {
          "output_type": "display_data",
          "data": {
            "image/png": "[encoded data removed]",
            "text/plain": [
              "<Figure size 432x288 with 1 Axes>"
            ]
          },
          "metadata": {
            "tags": []
          }
        }
      ]
    },
    {
      "cell_type": "code",
      "metadata": {
        "id": "DnML5ypWDBma",
        "colab_type": "code",
        "outputId": "d150ff61-7b92-413c-efc8-6cc5fe65481d",
        "colab": {
          "base_uri": "https://localhost:8080/",
          "height": 265
        }
      },
      "source": [
        "plt.imshow(train_images[1])\n",
        "plt.colorbar()\n",
        "plt.grid(False)\n",
        "plt.show()"
      ],
      "execution_count": 0,
      "outputs": [
        {
          "output_type": "display_data",
          "data": {
            "image/png": "[encoded data removed]",
            "text/plain": [
              "<Figure size 432x288 with 2 Axes>"
            ]
          },
          "metadata": {
            "tags": []
          }
        }
      ]
    },
    {
      "cell_type": "code",
      "metadata": {
        "id": "WibjUU8bDHFN",
        "colab_type": "code",
        "colab": {}
      },
      "source": [
        ""
      ],
      "execution_count": 0,
      "outputs": []
    }
  ]
}